{
 "cells": [
  {
   "cell_type": "markdown",
   "metadata": {},
   "source": [
    "# Analysis of Baltimore's Social Venues for Prospective Businesses"
   ]
  },
  {
   "cell_type": "markdown",
   "metadata": {},
   "source": [
    "### Introduction"
   ]
  },
  {
   "cell_type": "markdown",
   "metadata": {},
   "source": [
    "#### 1.1 Background"
   ]
  },
  {
   "cell_type": "markdown",
   "metadata": {},
   "source": [
    "Land is a limited resource especially in urban areas. As Sagamore Developments is helping development new business ventures [1][2] and apartment/condo complexes being built throughout the city [3], Baltimore's population is heading towards a growth phase. Baltimore has set a standard for other cities for urban renewal with the redevelopment of the Inner Harbor in the late 1970's and the current development of one of the largest urban revitalization efforts in the United States with Port Covington [4] [5]. Outside of the Inner Harbor and Port Covington, there are numerous landmarks that promote tourism including, but not limited to Fort McHenry, Oriole Park at Camden Yards, the nationally ranked Aquarium, and several museums. Baltimore's expanding living complexes has also added to the growth potential as older town homes are getting torn down for the development of condo's that can house 100+ more people in the same amount of land.\n",
    "\n",
    "With the new developments, housing complexes, and tourism attractions, are there areas in the city where certain businesses will thrive and other areas where they will go bankrupt?"
   ]
  },
  {
   "cell_type": "markdown",
   "metadata": {},
   "source": [
    "#### 1.2 Problem/Idea"
   ]
  },
  {
   "cell_type": "markdown",
   "metadata": {},
   "source": [
    "The developments in Baltimore has the potential for a boom in population. Are there certain venues that excel where the new developments are being built? Are certain venues popular in neighborhoods by geological locations? Is the city divided into venue preference as the income can vary dramatically from South Baltimore to West Baltimore?"
   ]
  },
  {
   "cell_type": "markdown",
   "metadata": {},
   "source": [
    "#### 1.3 Interest"
   ]
  },
  {
   "cell_type": "markdown",
   "metadata": {},
   "source": [
    "Anyone who is interested in opening up a business in Baltimore. In the end, the reader should be able to understand the relationship between neighborhoods and venue preferences as well as where similar businesses are successfully operating."
   ]
  },
  {
   "cell_type": "markdown",
   "metadata": {},
   "source": [
    "### 2. Data Acquisition"
   ]
  },
  {
   "cell_type": "markdown",
   "metadata": {},
   "source": [
    "#### 2.1 Data Source"
   ]
  },
  {
   "cell_type": "markdown",
   "metadata": {},
   "source": [
    "The data used to evaluate this problem:\n",
    "  * A list of Baltimore City neighborhoods by cardinal direction (North, South, East, West) [6] This data will provide all neighborhoods in Baltimore that will aid in finding latitudes and longitudes to be used with the Foursquare API."
   ]
  },
  {
   "cell_type": "markdown",
   "metadata": {},
   "source": [
    "|   | Neighborhood | Location     |\n",
    "|---|:------------:|-------------:|\n",
    "| 0 | Arlington    | Northwest    |\n",
    "| 1 | Arlington    | Northwest    |\n",
    "| 2 | Burleigh-Leighton| Northwest|\n",
    "| 3 | Callaway-Garrison| Northwest|\n",
    "| 4 |Central Forest Park| Northwest|"
   ]
  },
  {
   "cell_type": "markdown",
   "metadata": {},
   "source": [
    "  * A CSV file of US zip codes was used to connect the neighborhoods with their corresponding zip code, latitude, and longitude. [7] The final file will be filtered on MD."
   ]
  },
  {
   "cell_type": "markdown",
   "metadata": {},
   "source": [
    "| | Zip | City | State| Latitude | Longitude |\n",
    "|-|:---:|:----:|:----:|:--------:|----------:|\n",
    "|0|71937| Cove | AR | 34.398483| -94.39398|\n",
    "|1|72044| Edgemont| AR| 35.624351| -92.16056|\n",
    "|2|56171| Sherurn| MN| 43.660847| -92.74357|\n",
    "|3|49430|Lamont| MI| 43.010337| -85.89754|\n",
    "|4|52585|Richland|IA|41.194129|-91.98027|"
   ]
  },
  {
   "cell_type": "markdown",
   "metadata": {},
   "source": [
    "  * Foursquare API to get the trending and most popular venues. [8] This will help order the neighborhoods by venues."
   ]
  },
  {
   "cell_type": "code",
   "execution_count": null,
   "metadata": {},
   "outputs": [],
   "source": []
  },
  {
   "cell_type": "markdown",
   "metadata": {},
   "source": [
    "### References"
   ]
  },
  {
   "cell_type": "markdown",
   "metadata": {},
   "source": [
    "[1] https://data.baltimoresun.com/news/port-covington/\n",
    "\n",
    "[2] https://www.portcovingtonrealestate.com/port-covington-development/\n",
    "\n",
    "[3] https://www.bizjournals.com/baltimore/news/2018/10/22/10-development-projects-changing-greater-baltimore.html#g/444001/1\n",
    "   \n",
    "[4] https://www.tripadvisor.com/Tourism-g60811-Baltimore_Maryland-Vacations.html\n",
    "\n",
    "[5] https://www.portcovingtonrealestate.com/port-covington-development/\n",
    "\n",
    "[6] https://en.wikipedia.org/wiki/List_of_Baltimore_neighborhoods\n",
    "\n",
    "[7] https://public.opendatasoft.com/explore/dataset/us-zip-code-latitude-and-longitude/table/\n",
    "\n",
    "[8] https://developer.foursquare.com/\n"
   ]
  },
  {
   "cell_type": "code",
   "execution_count": null,
   "metadata": {},
   "outputs": [],
   "source": []
  }
 ],
 "metadata": {
  "kernelspec": {
   "display_name": "Python",
   "language": "python",
   "name": "conda-env-python-py"
  },
  "language_info": {
   "codemirror_mode": {
    "name": "ipython",
    "version": 3
   },
   "file_extension": ".py",
   "mimetype": "text/x-python",
   "name": "python",
   "nbconvert_exporter": "python",
   "pygments_lexer": "ipython3",
   "version": "3.6.7"
  }
 },
 "nbformat": 4,
 "nbformat_minor": 4
}
